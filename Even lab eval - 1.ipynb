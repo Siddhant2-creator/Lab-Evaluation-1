{
 "cells": [
  {
   "cell_type": "code",
   "execution_count": 1,
   "id": "ef20da6e",
   "metadata": {},
   "outputs": [],
   "source": [
    "tasks = {}"
   ]
  },
  {
   "cell_type": "code",
   "execution_count": 2,
   "id": "a96a21b8",
   "metadata": {},
   "outputs": [],
   "source": [
    "def add_task(tasks, name, Id, task_stat):\n",
    "    if Id in tasks:\n",
    "        print(\"Id already exists\")\n",
    "        \n",
    "    tasks[Id] = {\n",
    "        \"name\" : name,\n",
    "        \"task_stat\" : task_stat\n",
    "    }\n",
    "    \n",
    "    return"
   ]
  },
  {
   "cell_type": "code",
   "execution_count": 3,
   "id": "a1082b13",
   "metadata": {},
   "outputs": [],
   "source": [
    "def update_name(tasks, Id, name):\n",
    "    if Id not in tasks:\n",
    "        print(\"Id does not exist\")\n",
    "        \n",
    "    tasks[Id][\"name\"] = name\n",
    "    print(\"Successfully updated\")\n",
    "    return\n",
    "\n",
    "def update_status(tasks, Id, task_status):\n",
    "    if Id not in tasks:\n",
    "        print(\"Id does not exist\")\n",
    "        \n",
    "    tasks[Id][\"task_stat\"] = task_status\n",
    "    print(\"Successfully updated\")\n",
    "    return\n",
    "\n",
    "    "
   ]
  },
  {
   "cell_type": "code",
   "execution_count": 8,
   "id": "e76f8d84",
   "metadata": {},
   "outputs": [],
   "source": [
    "def dell(tasks, name):\n",
    "    \n",
    "    for Id, detail in tasks.items:\n",
    "        if detail[\"name\"] == name:\n",
    "            del tasks[Id]\n",
    "            return\n",
    "    print(\"Name does not exist\")\n",
    "    return"
   ]
  },
  {
   "cell_type": "code",
   "execution_count": 9,
   "id": "9dc1dc59",
   "metadata": {},
   "outputs": [],
   "source": [
    "def listing(tasks):\n",
    "    \n",
    "    for Id, detail in tasks.items:\n",
    "        print(task[Id])\n",
    "    \n",
    "    return"
   ]
  },
  {
   "cell_type": "code",
   "execution_count": 10,
   "id": "09d96bbe",
   "metadata": {},
   "outputs": [],
   "source": [
    "def findd(tasks, val):\n",
    "    \n",
    "    for Id, details in tasks.items:\n",
    "        if details[\"name\"] == name:\n",
    "            print(tasks[Id])\n",
    "            return\n",
    "        elif Id == val:\n",
    "            print(tasks[Id])\n",
    "            return\n",
    "        \n",
    "    print(\"NOT FOUNd\")\n",
    "    return"
   ]
  },
  {
   "cell_type": "code",
   "execution_count": 12,
   "id": "f39062dc",
   "metadata": {},
   "outputs": [],
   "source": [
    "def list_last(tasks, letter):\n",
    "    res = []\n",
    "    for Id, details in tasks.items:\n",
    "        if details[\"name\"][-1] == letter:\n",
    "            res.append(tasks[Id])\n",
    "        \n",
    "    print(res)\n",
    "    return\n",
    "        "
   ]
  },
  {
   "cell_type": "code",
   "execution_count": 14,
   "id": "ea6ecf82",
   "metadata": {},
   "outputs": [
    {
     "name": "stdout",
     "output_type": "stream",
     "text": [
      "Enter the number of tasks: 2\n",
      "Enter name : eat food\n",
      "Enter task status : completed\n",
      "Enter name : do studt\n",
      "Enter task status : not doe\n"
     ]
    }
   ],
   "source": [
    "print(\"Enter the number of tasks: \", end = \"\")\n",
    "Id = 0\n",
    "n = int(input(\"\"))\n",
    "\n",
    "while n > 0:\n",
    "    name = input(\"Enter name : \")\n",
    "    task_stat = input(\"Enter task status : \")\n",
    "    add_task(tasks, name, Id, task_stat)\n",
    "    Id = Id + 1\n",
    "    n = n - 1"
   ]
  },
  {
   "cell_type": "code",
   "execution_count": 15,
   "id": "44d302a8",
   "metadata": {},
   "outputs": [
    {
     "name": "stdout",
     "output_type": "stream",
     "text": [
      "{0: {'name': 'eat food', 'task_stat': 'completed'}, 1: {'name': 'do studt', 'task_stat': 'not doe'}}\n"
     ]
    }
   ],
   "source": []
  },
  {
   "cell_type": "code",
   "execution_count": null,
   "id": "6c464f5e",
   "metadata": {},
   "outputs": [],
   "source": []
  },
  {
   "cell_type": "code",
   "execution_count": null,
   "id": "c35e8983",
   "metadata": {},
   "outputs": [],
   "source": []
  }
 ],
 "metadata": {
  "kernelspec": {
   "display_name": "Python 3 (ipykernel)",
   "language": "python",
   "name": "python3"
  },
  "language_info": {
   "codemirror_mode": {
    "name": "ipython",
    "version": 3
   },
   "file_extension": ".py",
   "mimetype": "text/x-python",
   "name": "python",
   "nbconvert_exporter": "python",
   "pygments_lexer": "ipython3",
   "version": "3.11.5"
  }
 },
 "nbformat": 4,
 "nbformat_minor": 5
}
